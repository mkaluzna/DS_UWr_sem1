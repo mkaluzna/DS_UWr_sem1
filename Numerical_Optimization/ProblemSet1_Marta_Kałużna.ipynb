{
 "cells": [
  {
   "cell_type": "markdown",
   "metadata": {
    "colab_type": "text",
    "id": "3yYFbc1d-RX_"
   },
   "source": [
    "#### Marta Kałużna (290283)\n",
    "# Numerical Optimization\n",
    "## Problem set 1"
   ]
  },
  {
   "cell_type": "markdown",
   "metadata": {
    "colab_type": "text",
    "id": "6mxIAkLj-RYC"
   },
   "source": [
    "### Problem 1.1     \n",
    "In this problem you are going to solve the system of linear equations $Ax=b$, where $A\\in \\mathbb R^{n\\times n}$, $b\\in\\mathbb R^n$ are given.\n",
    "\n",
    "1. Implement the [Gauss elimination algorithm](https://www.wikiwand.com/en/Gaussian_elimination) that solves the system $Ax=b$. \n",
    "> `x = solve(A,b)`\n",
    "2. Test your algorithm with built-in solver (see [`\\`](https://docs.julialang.org/en/v1/stdlib/LinearAlgebra/#Base.:\\-Tuple{AbstractArray{T,2}%20where%20T,Union{AbstractArray{T,1},%20AbstractArray{T,2}}%20where%20T}) in Julia for example).<br/>\n",
    "One can perform the tests by taking $b := Ax$ for somehow generated vector (solution) $x\\in\\mathbb R^n$.\n",
    "3. Experiment with different kind of matrices $A$: symmetric, (2,3-)diagonal, Hilbert, positive definite, ..., "
   ]
  },
  {
   "cell_type": "markdown",
   "metadata": {},
   "source": [
    "**My solve function:**"
   ]
  },
  {
   "cell_type": "code",
   "execution_count": 81,
   "metadata": {
    "colab": {},
    "colab_type": "code",
    "id": "LVdz7snw-RYE"
   },
   "outputs": [],
   "source": [
    "import numpy as np\n",
    "\n",
    "def solve(a, b, cut = False):\n",
    "    a = a.astype(float)\n",
    "    r, c = a.shape # number of rows, columns\n",
    "    \n",
    "    # if number of rows is greater than number of columns\n",
    "    if r > c:\n",
    "        cut = True\n",
    "        a_pom = a[c:,:]\n",
    "        a = a[:c,:]\n",
    "        b_pom = b[c:]\n",
    "        b = b[:c]\n",
    "        r, c = a.shape\n",
    "    \n",
    "    a = np.c_[a,b]  # we add vector b to matrix A (as a column)\n",
    "    \n",
    "    # upper-triangle matrix\n",
    "    for i in range(c-1):\n",
    "        # to not divide by zero, we will swap rows of matrix A\n",
    "        while a[i,i] == 0:\n",
    "            a = a[np.random.permutation(np.arange(c)),:]\n",
    "        for j in range(i+1, r):\n",
    "            k = a[j,i]/a[i,i]\n",
    "            a[j,:] = a[j,:] - k*a[i,:]\n",
    "    \n",
    "    # solution\n",
    "    for i in range(c-1, -1, -1):\n",
    "        a[i,:]= a[i,:]/a[i,i]\n",
    "        for j in range(i-1, -1, -1):\n",
    "            k = a[j,i]/a[i,i]\n",
    "            a[j,:] = a[j,:] - k*a[i,:]\n",
    "\n",
    "    # only if number of rows was greater than number of columns (at the beginning)\n",
    "    if cut:\n",
    "        if sum(a_pom @ a[:,c] == b_pom) != len(b_pom):\n",
    "            return 'Układ sprzeczny'   \n",
    "    \n",
    "    return a[:,c]\n"
   ]
  },
  {
   "cell_type": "markdown",
   "metadata": {},
   "source": [
    "**Example test**"
   ]
  },
  {
   "cell_type": "code",
   "execution_count": 82,
   "metadata": {
    "colab": {},
    "colab_type": "code",
    "id": "w_WMvzbtIO9t"
   },
   "outputs": [
    {
     "data": {
      "text/plain": [
       "5.424907094036913e-07"
      ]
     },
     "execution_count": 82,
     "metadata": {},
     "output_type": "execute_result"
    }
   ],
   "source": [
    "import random\n",
    "\n",
    "n = 100\n",
    "x = np.array([random.uniform(-500,500) for x in range(n)]) # random vector\n",
    "A = np.array([random.uniform(-500,500) for x in range(n*n)]).reshape((n,n))\n",
    "#A.shape\n",
    "\n",
    "b = A @ x\n",
    "\n",
    "solve(A,b), x  # it's the same solution\n",
    "\n",
    "np.linalg.norm(A@solve(A,b) - b)"
   ]
  },
  {
   "cell_type": "markdown",
   "metadata": {},
   "source": [
    "     \n",
    "We're going to repeat this test 50 times."
   ]
  },
  {
   "cell_type": "code",
   "execution_count": 88,
   "metadata": {},
   "outputs": [
    {
     "data": {
      "text/plain": [
       "2.8724282542924093e-05"
      ]
     },
     "execution_count": 88,
     "metadata": {},
     "output_type": "execute_result"
    }
   ],
   "source": [
    "n = 100\n",
    "diff = []\n",
    "\n",
    "for i in range(50):\n",
    "    x = np.array([random.uniform(-500,500) for x in range(n)]) \n",
    "    A = np.array([random.uniform(-500,500) for x in range(n*n)]).reshape((n,n))\n",
    "    b = A @ x\n",
    "    diff.append(np.linalg.norm(A @ solve(A,b) - b))\n",
    "    \n",
    "np.mean(diff)"
   ]
  },
  {
   "cell_type": "markdown",
   "metadata": {},
   "source": [
    "The difference is still close to 0."
   ]
  },
  {
   "cell_type": "markdown",
   "metadata": {},
   "source": [
    "**More experiments**"
   ]
  },
  {
   "cell_type": "code",
   "execution_count": 89,
   "metadata": {},
   "outputs": [
    {
     "data": {
      "text/plain": [
       "(4.070144838902081e-15, 0.0, 0.0, 4.165926057296536e-15, 'Układ sprzeczny')"
      ]
     },
     "execution_count": 89,
     "metadata": {},
     "output_type": "execute_result"
    }
   ],
   "source": [
    "# More tests\n",
    "\n",
    "A1 = np.array([[1,2,3], [2,1,4], [3,4,1]]) # symmetric matrix\n",
    "x1 = np.array([random.uniform(-10,10) for x in range(3)])\n",
    "b1 = A1 @ x1\n",
    "sol1 = solve(A1, b1)\n",
    "d1 = np.linalg.norm(A1@sol1 - b1)\n",
    "\n",
    "A2 = np.array([[5, 0, 0], [0, 3, 0], [0,0,2]]) # diagonal matrix\n",
    "b2 = A2 @ x1\n",
    "sol2 = solve(A2,b2)\n",
    "d2 = np.linalg.norm(A2@sol2 - b2)\n",
    "\n",
    "A3 = np.array([[60,91], [60,3], [45,90], [32,12], [3,2]]) # matrix 5x2\n",
    "x2 = np.array([random.uniform(-100,100) for x in range(2)])\n",
    "b3 = A3 @ x2\n",
    "sol3 = solve(A3, b3)\n",
    "d3 = np.linalg.norm(A3@sol3 - b3)\n",
    "\n",
    "A4 = np.array([[1, 1/2, 1/3], [1/2, 1/3, 1/4], [1/3, 1/4, 1/5]]) # hilbert matrix 3x3\n",
    "b4 = A4 @ x1\n",
    "sol4 = solve(A4, b4)\n",
    "d4 = np.linalg.norm(A4@sol4 - b4)\n",
    "\n",
    "A5 = np.array([[60,91], [60,3], [45,90], [32,12], [3,2]]) # no solution\n",
    "b5 = np.array([1,0,0,5,7])\n",
    "sol5 = solve(A5, b5)\n",
    "\n",
    "d1, d2, d3, d4, sol5"
   ]
  },
  {
   "cell_type": "markdown",
   "metadata": {},
   "source": [
    "In every case, difference between my solve function and real solution is close to 0."
   ]
  },
  {
   "cell_type": "markdown",
   "metadata": {
    "colab_type": "text",
    "id": "lKhZ_FYQ-RYL"
   },
   "source": [
    "### Problem 1.2\n",
    "\n",
    "Consider the following linear problem:\n",
    "```\n",
    "    maximize     2x+2y+z\n",
    "    \n",
    "                 | 1 1 1 |   | x |     | 5 |\n",
    "    subject to   | 1 1 0 | * | y |  <= | 4 |\n",
    "                 | 0 0 1 |   | z |     | 4 |\n",
    "                 \n",
    "                 x, y, z >= 0\n",
    "```"
   ]
  },
  {
   "cell_type": "markdown",
   "metadata": {},
   "source": [
    "**Objective function:**      \n",
    "$f(x,y,z) = 2x + 2y + z$    \n",
    "     \n",
    "     \n",
    "**Constraints:**   \n",
    "$x + y + z <= 5 $   \n",
    "     \n",
    "$x + y <= 4 $      \n",
    "     \n",
    "$z <= 5$      \n",
    "     \n",
    "$x, y, z >= 0$"
   ]
  },
  {
   "cell_type": "code",
   "execution_count": 72,
   "metadata": {
    "colab": {
     "base_uri": "https://localhost:8080/",
     "height": 313
    },
    "colab_type": "code",
    "id": "fSmKD1-r-RYN",
    "outputId": "bc3b541c-127f-46e1-8520-c3e71c84ed62"
   },
   "outputs": [
    {
     "data": {
      "image/png": "[encoded data removed]",
      "text/plain": [
       "<Figure size 432x288 with 1 Axes>"
      ]
     },
     "metadata": {
      "needs_background": "light"
     },
     "output_type": "display_data"
    }
   ],
   "source": [
    "# 3D plot\n",
    "from mpl_toolkits import mplot3d\n",
    "%matplotlib inline\n",
    "import numpy as np\n",
    "import matplotlib.pyplot as plt\n",
    "\n",
    "fig = plt.figure()\n",
    "ax = fig.add_subplot(111, projection='3d')\n",
    "plt.tight_layout()\n",
    "\n",
    "X = [0, 0, 4, 0, 0, 0, 0, 0, 4, 4, 0, 4, 1, 0, 0, 1]\n",
    "Y = [0, 4, 0, 0, 0, 1, 4, 4, 0, 0, 4, 0, 0, 0, 1, 0]\n",
    "Z = np.array([[0, 0, 0, 0, 4, 4, 1, 0, 0, 1, 1, 1, 4, 4, 4, 4], [0, 0, 0, 0, 4, 4, 1, 0, 0, 1, 1, 1, 4, 4, 4, 4]])\n",
    "\n",
    "ax.plot_wireframe(X, Y, Z, color = 'purple')\n",
    "plt.title('Feasible set')\n",
    "plt.xlabel('x')\n",
    "plt.ylabel('y')\n",
    "plt.show()"
   ]
  },
  {
   "cell_type": "markdown",
   "metadata": {
    "colab_type": "text",
    "id": "vUBN7eGSxTf8"
   },
   "source": [
    "Polytope above contains all solutions.     \n",
    "To find an optimal solution, we will check vertices (because we want to maximize the function, we'll be looking only at the higher values; x and y are multiplied by 2, so we will mainly check the points where x = 4 or y = 4):\n",
    "\n",
    "f(4,0,0) = 8    \n",
    "f(0,4,0) = 8       \n",
    "f(0,1,4) = 6     \n",
    "f(0,4,1) = 9      \n",
    "f(4,0,1) = 9     \n",
    "...\n",
    "\n",
    "Thus, an optimal solutions are: $(4,0,1)$ where $f(4,0,1) = 9$ and also $(0,4,1)$, $f(0,4,1) = 9$.     \n"
   ]
  },
  {
   "cell_type": "markdown",
   "metadata": {},
   "source": [
    "There is also a package in Python called 'pulp' which solves the LP. We can compare our solution with it."
   ]
  },
  {
   "cell_type": "code",
   "execution_count": 76,
   "metadata": {
    "colab": {
     "base_uri": "https://localhost:8080/",
     "height": 326
    },
    "colab_type": "code",
    "id": "dAZnUWOvy879",
    "outputId": "dd91ec2d-d7d1-4412-dd47-c4e61f07f24b"
   },
   "outputs": [
    {
     "name": "stdout",
     "output_type": "stream",
     "text": [
      "Optimal solution:\n",
      "x  =  4.0\n",
      "y  =  0.0\n",
      "z  =  1.0\n",
      "Maximum value:\n",
      "9.0\n"
     ]
    }
   ],
   "source": [
    "# 'pulp' package solves the LP, so we can compare our solution\n",
    "\n",
    "#!pip install pulp\n",
    "from pulp import *\n",
    "\n",
    "x = pulp.LpVariable(\"x\", lowBound = 0)\n",
    "y = pulp.LpVariable(\"y\", lowBound = 0)\n",
    "z = pulp.LpVariable(\"z\", lowBound = 0)\n",
    "problem = pulp.LpProblem(\"A simple max problem\", pulp.LpMaximize)\n",
    "problem += 2*x + 2*y + z, \"The objective function\"\n",
    "problem += x + y + z <= 5, \"1st constraint\"\n",
    "problem += x + y <= 4, \"2nd constraint\"\n",
    "problem += z <= 4, \"3rd constraint\"\n",
    "problem.solve()\n",
    "print(\"Optimal solution:\")\n",
    "for variable in problem.variables():\n",
    "    print(variable.name, \" = \", variable.varValue)\n",
    "print(\"Maximum value:\")\n",
    "print(value(problem.objective))"
   ]
  }
 ],
 "metadata": {
  "@webio": {
   "lastCommId": null,
   "lastKernelId": null
  },
  "colab": {
   "collapsed_sections": [],
   "name": "Lista1_NO.ipynb",
   "provenance": []
  },
  "kernelspec": {
   "display_name": "Python 3",
   "language": "python",
   "name": "python3"
  },
  "language_info": {
   "codemirror_mode": {
    "name": "ipython",
    "version": 3
   },
   "file_extension": ".py",
   "mimetype": "text/x-python",
   "name": "python",
   "nbconvert_exporter": "python",
   "pygments_lexer": "ipython3",
   "version": "3.7.3"
  }
 },
 "nbformat": 4,
 "nbformat_minor": 1
}
