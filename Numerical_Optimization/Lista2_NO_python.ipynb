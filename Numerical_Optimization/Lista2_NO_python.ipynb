{
 "cells": [
  {
   "cell_type": "markdown",
   "metadata": {},
   "source": [
    "# Problem Set 2"
   ]
  },
  {
   "cell_type": "markdown",
   "metadata": {},
   "source": [
    "### Solution of exercise 2 in Python"
   ]
  },
  {
   "cell_type": "code",
   "execution_count": 1,
   "metadata": {},
   "outputs": [],
   "source": [
    "from gurobipy import *"
   ]
  },
  {
   "cell_type": "code",
   "execution_count": 16,
   "metadata": {},
   "outputs": [
    {
     "name": "stdout",
     "output_type": "stream",
     "text": [
      "Optimize a model with 1 rows, 2 columns and 2 nonzeros\n",
      "Coefficient statistics:\n",
      "  Matrix range     [1e+00, 2e+00]\n",
      "  Objective range  [1e+00, 1e+00]\n",
      "  Bounds range     [1e+00, 2e+00]\n",
      "  RHS range        [7e+00, 7e+00]\n",
      "Presolve removed 1 rows and 2 columns\n",
      "Presolve time: 0.01s\n",
      "Presolve: All rows and columns removed\n",
      "Iteration    Objective       Primal Inf.    Dual Inf.      Time\n",
      "       0    4.0000000e+00   0.000000e+00   0.000000e+00      0s\n",
      "\n",
      "Solved in 0 iterations and 0.02 seconds\n",
      "Optimal objective  4.000000000e+00\n",
      "\n",
      "\n",
      "x = 1\n",
      "y = 3\n",
      "Objective value: 4\n"
     ]
    }
   ],
   "source": [
    "m1 = Model(\"m1\")\n",
    "x = m1.addVar(name=\"x\", lb = 1)\n",
    "y = m1.addVar(name=\"y\", lb = 2)\n",
    "\n",
    "m1.setObjective(x + y, GRB.MINIMIZE)\n",
    "m1.addConstr(x + 2*y == 7)\n",
    "\n",
    "m1.optimize()\n",
    "\n",
    "print('\\n')\n",
    "for v in m1.getVars():\n",
    "    print('%s = %g' % (v.varName, v.x))\n",
    "print('Objective value: %g' % m1.objVal)"
   ]
  },
  {
   "cell_type": "code",
   "execution_count": 17,
   "metadata": {},
   "outputs": [
    {
     "name": "stdout",
     "output_type": "stream",
     "text": [
      "Optimize a model with 5 rows, 3 columns and 10 nonzeros\n",
      "Coefficient statistics:\n",
      "  Matrix range     [1e+00, 1e+00]\n",
      "  Objective range  [1e+00, 3e+00]\n",
      "  Bounds range     [0e+00, 0e+00]\n",
      "  RHS range        [2e+00, 5e+00]\n",
      "Presolve removed 2 rows and 0 columns\n",
      "Presolve time: 0.01s\n",
      "Presolved: 3 rows, 5 columns, 8 nonzeros\n",
      "\n",
      "Iteration    Objective       Primal Inf.    Dual Inf.      Time\n",
      "       0    2.9940000e+00   3.501000e+00   0.000000e+00      0s\n",
      "       3    8.0000000e+00   0.000000e+00   0.000000e+00      0s\n",
      "\n",
      "Solved in 3 iterations and 0.03 seconds\n",
      "Optimal objective  8.000000000e+00\n",
      "\n",
      "\n",
      "x = 2.5\n",
      "y = 0.5\n",
      "z = 1.5\n",
      "Objective value: 8\n"
     ]
    }
   ],
   "source": [
    "m2 = Model(\"m2\")\n",
    "x = m2.addVar(name=\"x\", lb = 0)\n",
    "y = m2.addVar(name=\"y\", lb = 0)\n",
    "z = m2.addVar(name=\"z\", lb = 0)\n",
    "\n",
    "m2.setObjective(x + 2*y + 3*z, GRB.MINIMIZE)\n",
    "m2.addConstr(x - y <= 2)\n",
    "m2.addConstr(2 <= x + y)\n",
    "m2.addConstr(x + y <= 3)\n",
    "m2.addConstr(x + z <= 5)\n",
    "m2.addConstr(4 <= x + z)\n",
    "\n",
    "m2.optimize()\n",
    "\n",
    "print('\\n')\n",
    "for v in m2.getVars():\n",
    "    print('%s = %g' % (v.varName, v.x))\n",
    "print('Objective value: %g' % m2.objVal)"
   ]
  },
  {
   "cell_type": "code",
   "execution_count": 19,
   "metadata": {},
   "outputs": [
    {
     "name": "stdout",
     "output_type": "stream",
     "text": [
      "Optimize a model with 3 rows, 2 columns and 6 nonzeros\n",
      "Coefficient statistics:\n",
      "  Matrix range     [1e+00, 1e+00]\n",
      "  Objective range  [1e+00, 2e+00]\n",
      "  Bounds range     [0e+00, 0e+00]\n",
      "  RHS range        [1e+00, 5e+00]\n",
      "Presolve removed 3 rows and 2 columns\n",
      "Presolve time: 0.02s\n",
      "Presolve: All rows and columns removed\n",
      "Iteration    Objective       Primal Inf.    Dual Inf.      Time\n",
      "       0    9.5000000e+00   0.000000e+00   0.000000e+00      0s\n",
      "\n",
      "Solved in 0 iterations and 0.03 seconds\n",
      "Optimal objective  9.500000000e+00\n",
      "\n",
      "\n",
      "x = 4.5\n",
      "y = 0.5\n",
      "Objective value: 9.5\n"
     ]
    }
   ],
   "source": [
    "m1 = Model(\"m1\")\n",
    "x = m1.addVar(name=\"x\")\n",
    "y = m1.addVar(name=\"y\")\n",
    "\n",
    "m1.setObjective(2*x + y, GRB.MAXIMIZE)\n",
    "m1.addConstr(x + y <= 5)\n",
    "m1.addConstr(1 <= x + y)\n",
    "m1.addConstr(x - y <= 4)\n",
    "\n",
    "m1.optimize()\n",
    "\n",
    "print('\\n')\n",
    "for v in m1.getVars():\n",
    "    print('%s = %g' % (v.varName, v.x))\n",
    "print('Objective value: %g' % m1.objVal)"
   ]
  }
 ],
 "metadata": {
  "kernelspec": {
   "display_name": "Python 3",
   "language": "python",
   "name": "python3"
  },
  "language_info": {
   "codemirror_mode": {
    "name": "ipython",
    "version": 3
   },
   "file_extension": ".py",
   "mimetype": "text/x-python",
   "name": "python",
   "nbconvert_exporter": "python",
   "pygments_lexer": "ipython3",
   "version": "3.7.3"
  }
 },
 "nbformat": 4,
 "nbformat_minor": 2
}
