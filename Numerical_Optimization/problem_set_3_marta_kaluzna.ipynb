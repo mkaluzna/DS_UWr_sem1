{
 "cells": [
  {
   "cell_type": "markdown",
   "metadata": {},
   "source": [
    "Marta Kałużna (290283)"
   ]
  },
  {
   "cell_type": "markdown",
   "metadata": {},
   "source": [
    "# Numerical Optimization"
   ]
  },
  {
   "cell_type": "markdown",
   "metadata": {},
   "source": [
    "## Problem Set 3"
   ]
  },
  {
   "cell_type": "markdown",
   "metadata": {},
   "source": [
    "#### Problem 3.1\n",
    "\n",
    "In this problem we consider univariate function $f:\\mathbb R\\to\\mathbb R$.\n",
    "\n",
    "Implement the method `(a,b) = find_initial_bracket(f)` which for given function $f$ gives the bracketing interval $(a,b)$ such that there exist local minimum $c\\in(a,b)$ satisfying $f(a)>f(c)<f(b)$."
   ]
  },
  {
   "cell_type": "code",
   "execution_count": 394,
   "metadata": {},
   "outputs": [],
   "source": [
    "import numpy as np\n",
    "\n",
    "def find_initial_bracket(f, x=0, s=1e-2, k=2.0):\n",
    "    a, ya = x, f(x)\n",
    "    b, yb = a + s, f(a + s)\n",
    "    if yb > ya:\n",
    "        a, b = b, a\n",
    "        ya, yb = yb, ya\n",
    "        s = -s\n",
    "    while True:\n",
    "        c, yc = b + s, f(b + s)\n",
    "        if yc > yb:\n",
    "            if a > c:\n",
    "                a, c = c, a\n",
    "                return (a,c)\n",
    "            else:\n",
    "                return (a,c)\n",
    "        a, ya, b, yb = b, yb, c, yc\n",
    "        s = s*k"
   ]
  },
  {
   "cell_type": "code",
   "execution_count": 395,
   "metadata": {},
   "outputs": [
    {
     "name": "stdout",
     "output_type": "stream",
     "text": [
      "(-5.109999999999999, -1.27)\n"
     ]
    }
   ],
   "source": [
    "# Example test\n",
    "f = lambda x: 3*x**2 + np.exp(.3*x-9) + 20*x - 20\n",
    "(a,b)= find_initial_bracket(f)\n",
    "print((a,b))"
   ]
  },
  {
   "cell_type": "code",
   "execution_count": 398,
   "metadata": {},
   "outputs": [
    {
     "data": {
      "image/png": "[encoded data removed]",
      "text/plain": [
       "<Figure size 432x288 with 1 Axes>"
      ]
     },
     "metadata": {
      "needs_background": "light"
     },
     "output_type": "display_data"
    }
   ],
   "source": [
    "import matplotlib.pyplot as plt\n",
    "\n",
    "x = np.arange(a, b, .01)\n",
    "plt.plot(x, f(x))\n",
    "plt.show()"
   ]
  },
  {
   "cell_type": "markdown",
   "metadata": {},
   "source": [
    "#### Problem 3.2\n",
    "\n",
    "In this problem we consider [unimodal function](https://www.wikiwand.com/en/Unimodality#/Unimodal_function)\n",
    "and will play with _golden section search_ method.\n",
    "\n",
    "First you should implement the _Fibonacci search_ algorithm provided that you have the (global) array of Fibonacci numbers. Next you should implement the _golden section search_ which uses only _golden ratio_ $\\varphi = (1+\\sqrt 5)/2$."
   ]
  },
  {
   "cell_type": "code",
   "execution_count": 476,
   "metadata": {},
   "outputs": [],
   "source": [
    "def fibonacci(n): \n",
    "    a = 0\n",
    "    b = 1\n",
    "    if n < 0: \n",
    "        print(\"Incorrect n\") \n",
    "    elif n == 0: \n",
    "        return a \n",
    "    elif n == 1: \n",
    "        return b \n",
    "    else: \n",
    "        for i in range(2,n): \n",
    "            c = a + b \n",
    "            a = b \n",
    "            b = c \n",
    "        return b"
   ]
  },
  {
   "cell_type": "markdown",
   "metadata": {},
   "source": [
    "##### Fibonacci search algorithm"
   ]
  },
  {
   "cell_type": "code",
   "execution_count": 516,
   "metadata": {},
   "outputs": [],
   "source": [
    "def fibonacci_search(f, a, b, n, eps=1e-4):\n",
    "    if n <= 1:\n",
    "        print(\"Incorrect number of evaluations\")\n",
    "        \n",
    "    N = 0\n",
    "    F = round((b-a)/eps)\n",
    "    C = fibonacci(N)\n",
    "    while C < F:\n",
    "        N += 1\n",
    "        C = fibonacci(N)\n",
    "        \n",
    "    x1 = a + (fibonacci(N-2)/C)*(b-a)\n",
    "    x2 = a + (fibonacci(N-1)/C)*(b-a)\n",
    "    i = 1\n",
    "    #print(i, (round(x1,4),round(x2,4)))\n",
    "    while i < n:\n",
    "        y1 = f(x1)\n",
    "        y2 = f(x2)\n",
    "        if y1 <= y2:\n",
    "            a, b = x1, b\n",
    "            x1 = x2\n",
    "            x2 = a + (fibonacci(N-i-1)/fibonacci(N-i))*(b-a)\n",
    "        else:\n",
    "            a, b = a, x2\n",
    "            x2 = x1\n",
    "            x1 = a + (fibonacci(N-i-2)/fibonacci(N-i))*(b-a)\n",
    "            \n",
    "        if b - a < eps:\n",
    "            return (a, b)\n",
    "        \n",
    "        i += 1\n",
    "    return (a, b)"
   ]
  },
  {
   "cell_type": "markdown",
   "metadata": {},
   "source": [
    "##### Golden section search"
   ]
  },
  {
   "cell_type": "code",
   "execution_count": 532,
   "metadata": {},
   "outputs": [],
   "source": [
    "gr = (1 + np.sqrt(5))/2\n",
    "\n",
    "def gs_search(f, a, b, n):                                                                                                                                             \n",
    "    x1 = b - (b - a)/gr\n",
    "    x2 = a + (b - a)/gr\n",
    "    \n",
    "    i = 1\n",
    "    while i < n:\n",
    "        y1 = f(x1)\n",
    "        y2 = f(x2)\n",
    "        if y1 < y2:\n",
    "            a = x1\n",
    "        else:\n",
    "            b = x2\n",
    "\n",
    "        x1 = b - (b - a) / gr\n",
    "        x2 = a + (b - a) / gr\n",
    "        \n",
    "        i += 1\n",
    "        \n",
    "    return (a, b)"
   ]
  },
  {
   "cell_type": "markdown",
   "metadata": {},
   "source": [
    "#### Examples"
   ]
  },
  {
   "cell_type": "markdown",
   "metadata": {},
   "source": [
    "1. $f(x)=-x^2+21.6x+3$ over the interval $[0,20]$. Via calculus the maximum is at 10.8. The tolerance level is set to 0.001."
   ]
  },
  {
   "cell_type": "code",
   "execution_count": 533,
   "metadata": {},
   "outputs": [
    {
     "data": {
      "text/plain": [
       "((10.799455630386989, 10.800851449907526),\n",
       " (10.799999881041801, 10.799999881041803))"
      ]
     },
     "execution_count": 533,
     "metadata": {},
     "output_type": "execute_result"
    }
   ],
   "source": [
    "f = lambda x: -x**2 + 21.6*x + 3                                                                                                                            \n",
    "a = 0                                                                                                                                             \n",
    "b = 20\n",
    "n1 = 21\n",
    "eps = .001\n",
    "n2 = int(np.ceil((b-a)/(eps*np.log(gr))))\n",
    "fibonacci_search(f, a, b, n1, eps), gs_search(f, a, b, n2)\n",
    "# both methods"
   ]
  },
  {
   "cell_type": "markdown",
   "metadata": {},
   "source": [
    "2. A function that doesn't have a derivative: $f(x) = -|2-x| + |5 - 4x| + |8 - 9x|$ over the interval $[0,3]$. The tolerance level is set to 0.1."
   ]
  },
  {
   "cell_type": "code",
   "execution_count": 534,
   "metadata": {},
   "outputs": [
    {
     "data": {
      "text/plain": [
       "((0.8823529411764706, 0.9705882352941178),\n",
       " (0.8888888888887204, 0.8888888888890514))"
      ]
     },
     "execution_count": 534,
     "metadata": {},
     "output_type": "execute_result"
    }
   ],
   "source": [
    "f = lambda x: -(abs(2-x)+abs(5-4*x)+abs(8-9*x))\n",
    "a = 0\n",
    "b = 3\n",
    "eps = 0.1\n",
    "n1 = 8\n",
    "n2 = int(np.ceil((b-a)/(eps*np.log(gr))))\n",
    "fibonacci_search(f, a, b, n1, eps), gs_search(f, a, b, n2)"
   ]
  },
  {
   "cell_type": "markdown",
   "metadata": {},
   "source": [
    "3. Minimize the function $f(x) = 2x^2-4x$ over $[-1,2]$. To minimize  f(x), we maximize $-f(x) = -2x^2+4x$. We keep the interval the same. The tolerance level is set to 0.01."
   ]
  },
  {
   "cell_type": "code",
   "execution_count": 535,
   "metadata": {},
   "outputs": [
    {
     "data": {
      "text/plain": [
       "((0.9575596816976126, 1.1246684350132625),\n",
       " (0.9999999925077823, 0.9999999925077824))"
      ]
     },
     "execution_count": 535,
     "metadata": {},
     "output_type": "execute_result"
    }
   ],
   "source": [
    "f = lambda x: -2*x**2+4*x\n",
    "a = -1\n",
    "b = 2\n",
    "eps = 0.01\n",
    "n1 = 7\n",
    "n2 = int(np.ceil((b-a)/(eps*np.log(gr))))\n",
    "fibonacci_search(f, a, b, n1, eps), gs_search(f, a, b, n2)"
   ]
  },
  {
   "cell_type": "markdown",
   "metadata": {},
   "source": [
    "#### Problem 3.3\n",
    "$$ f(x) = x^4 + 16x^2 + 18(x-4) e^x\\qquad (x\\in\\mathbb R) $$"
   ]
  },
  {
   "cell_type": "code",
   "execution_count": 554,
   "metadata": {},
   "outputs": [
    {
     "data": {
      "text/plain": [
       "(512.0, 1366.7667005965964)"
      ]
     },
     "execution_count": 554,
     "metadata": {},
     "output_type": "execute_result"
    }
   ],
   "source": [
    "from sympy import *\n",
    "\n",
    "def my_func(x, order=0):\n",
    "    x1 = x\n",
    "    x = Symbol('x')\n",
    "    f = x**4 + 16*x**2 + 18*(x-4)*exp(x)\n",
    "    fx = lambdify(x,f)\n",
    "    value = fx(x1)\n",
    "    if order == 0:\n",
    "        return value\n",
    "    elif order == 1:\n",
    "        f_prime = diff(f)\n",
    "        f_prime = lambdify(x, f_prime)\n",
    "        gradient = f_prime(x1)\n",
    "        return value, gradient\n",
    "    \n",
    "my_func(4, order = 1)"
   ]
  },
  {
   "cell_type": "markdown",
   "metadata": {},
   "source": [
    "I also added the version of **my_func** which works for every function f:"
   ]
  },
  {
   "cell_type": "code",
   "execution_count": 719,
   "metadata": {},
   "outputs": [
    {
     "data": {
      "text/plain": [
       "((512.0, 1366.7667005965964), (3.0, 21.6), (2, 0))"
      ]
     },
     "execution_count": 719,
     "metadata": {},
     "output_type": "execute_result"
    }
   ],
   "source": [
    "def my_func2(f, x1, order=0):\n",
    "    fx = lambdify(x,f)\n",
    "    value = fx(x1)\n",
    "    if order == 0:\n",
    "        return value\n",
    "    elif order == 1:\n",
    "        f_prime = diff(f)\n",
    "        f_prime = lambdify(x, f_prime)\n",
    "        gradient = f_prime(x1)\n",
    "        return value, gradient\n",
    "\n",
    "x = Symbol('x')\n",
    "f1 = x**4 + 16*x**2 + 18*(x-4)*exp(x)\n",
    "f2 = -x**2 + 21.6*x + 3                                                                                                                            \n",
    "f3 = -2*x**2 + 4*x\n",
    "my_func2(f1, 4, 1), my_func2(f2, 0, 1), my_func2(f3, 1, 1)"
   ]
  },
  {
   "cell_type": "markdown",
   "metadata": {},
   "source": [
    "**Bisection method**"
   ]
  },
  {
   "cell_type": "code",
   "execution_count": 727,
   "metadata": {},
   "outputs": [],
   "source": [
    "def bisection(f, MIN, MAX, eps=1e-5, max_iter=10000):\n",
    "    counter = 0\n",
    "    while True:\n",
    "        counter += 1\n",
    "        MID = (MAX+MIN)/2\n",
    "        \n",
    "        suboptimality = (MAX-MIN)/2\n",
    "        value, gradient = my_func2(f, MID, 1)\n",
    "        if (value == 0 or suboptimality <= eps):\n",
    "            break\n",
    "\n",
    "        if gradient > 0:\n",
    "            MAX = MID\n",
    "        else:\n",
    "            MIN = MID\n",
    "\n",
    "        if counter == max_iter:\n",
    "            break\n",
    "            \n",
    "    print(\"Number of Iterations: %d\", counter)\n",
    "    print(\"Suboptimal point: %1.15\", MID)\n",
    "    print(\"Suboptimal value: %1.15\", value)\n",
    "    return MID"
   ]
  },
  {
   "cell_type": "code",
   "execution_count": 728,
   "metadata": {},
   "outputs": [
    {
     "name": "stdout",
     "output_type": "stream",
     "text": [
      "Number of Iterations: %d 21\n",
      "Suboptimal point: %1.15 2.3223209381103516\n",
      "Suboptimal value: %1.15 -192.62418182967122\n"
     ]
    },
    {
     "data": {
      "text/plain": [
       "2.3223209381103516"
      ]
     },
     "execution_count": 728,
     "metadata": {},
     "output_type": "execute_result"
    }
   ],
   "source": [
    "x = Symbol('x')\n",
    "f1 = x**4 + 16*x**2 + 18*(x-4)*exp(x)\n",
    "bisection(f1, -10, 10)"
   ]
  },
  {
   "cell_type": "code",
   "execution_count": 735,
   "metadata": {},
   "outputs": [
    {
     "name": "stdout",
     "output_type": "stream",
     "text": [
      "Number of Iterations: %d 21\n",
      "Suboptimal point: %1.15 -9.999990463256836\n",
      "Suboptimal value: %1.15 -312.9996032715753\n"
     ]
    },
    {
     "data": {
      "text/plain": [
       "-9.999990463256836"
      ]
     },
     "execution_count": 735,
     "metadata": {},
     "output_type": "execute_result"
    }
   ],
   "source": [
    "x = Symbol('x')\n",
    "f2 = -x**2 + 21.6*x + 3\n",
    "bisection(f2, -10, 10)"
   ]
  },
  {
   "cell_type": "markdown",
   "metadata": {},
   "source": [
    "#### Problem 3.4\n",
    "\n",
    "Implement the **linesearch algorithm**."
   ]
  },
  {
   "cell_type": "code",
   "execution_count": 660,
   "metadata": {},
   "outputs": [],
   "source": [
    "def exact_line_search(f, x, d, eps=1e-9, max_iter=65536):\n",
    "    y = Symbol('y')\n",
    "    h = f(x + y*d)\n",
    "    a, b = find_initial_bracket(h)\n",
    "    alpha = bisection(h, a, b, eps, max_iter)\n",
    "    return x + alpha*d\n",
    "\n",
    "x = Symbol('x')\n",
    "f = x**4 + 16*x**2 + 18*(x-4)*exp(x)"
   ]
  },
  {
   "cell_type": "markdown",
   "metadata": {},
   "source": [
    "Unfortunately, the function above doesn't work fine, so I've implemented the second *exact_line_search* function in which I set the value of alpha at the beginning - it's changing inside of the loop."
   ]
  },
  {
   "cell_type": "code",
   "execution_count": 701,
   "metadata": {},
   "outputs": [
    {
     "data": {
      "text/plain": [
       "(2.322324583129999,\n",
       " -192.62418183070685,\n",
       " 2.461888470861595e-10,\n",
       " 2.322324583128999,\n",
       " 1.0000000000000006e-12)"
      ]
     },
     "execution_count": 701,
     "metadata": {},
     "output_type": "execute_result"
    }
   ],
   "source": [
    "def exact_line_search2(f, x, d, eps = 1e-9, max_iter = 65536):\n",
    "    \n",
    "    counter = 0 \n",
    "    alpha = 10\n",
    "    value, gradient = my_func2(f, x, order = 1)\n",
    "    \n",
    "    while counter <= max_iter:\n",
    "        \n",
    "        counter += 1\n",
    "        x  = x + alpha*d\n",
    "        value_k, gradient_k = my_func2(f, x, order = 1)\n",
    "        \n",
    "        if np.sign(gradient) != np.sign(gradient_k):\n",
    "            d = -1*d\n",
    "            alpha *= 0.1\n",
    "        \n",
    "        gradient = gradient_k\n",
    "        \n",
    "        if abs(gradient) <= eps:\n",
    "            break\n",
    "        \n",
    "    return x, value_k, gradient, x + alpha*d, alpha\n",
    "\n",
    "x = Symbol('x')\n",
    "f = x**4 + 16*x**2 + 18*(x-4)*exp(x)\n",
    "exact_line_search2(f, 2, 1)"
   ]
  },
  {
   "cell_type": "markdown",
   "metadata": {},
   "source": [
    "#### Problem 3.5\n",
    "\n",
    "In this problem you should implement **backtracking linesearch algorithm**."
   ]
  },
  {
   "cell_type": "code",
   "execution_count": 700,
   "metadata": {},
   "outputs": [
    {
     "data": {
      "text/plain": [
       "2.842170943040401e-15"
      ]
     },
     "execution_count": 700,
     "metadata": {},
     "output_type": "execute_result"
    }
   ],
   "source": [
    "def backtracking_line_search(f, x, direction, alpha=0.4, beta=0.9, maximum_iterations=65536):\n",
    "    counter = 0\n",
    "    t = 0.5\n",
    "    value, gradient = my_func2(f, x, order = 1)\n",
    "    if gradient*direction > 0 :\n",
    "        direction = -1*direction\n",
    "    while my_func2(f, x + alpha*direction) < value + alpha*beta*gradient*direction:\n",
    "        alpha = alpha*t\n",
    "        counter += 1\n",
    "        if counter == maximum_iterations:\n",
    "            return alpha\n",
    "    return alpha\n",
    "\n",
    "x = Symbol('x')\n",
    "f = x**4 + 16*x**2 + 18*(x-4)*exp(x)\n",
    "backtracking_line_search(f, 1, 1)"
   ]
  },
  {
   "cell_type": "code",
   "execution_count": 746,
   "metadata": {},
   "outputs": [
    {
     "data": {
      "text/plain": [
       "7.105427357601002e-16"
      ]
     },
     "execution_count": 746,
     "metadata": {},
     "output_type": "execute_result"
    }
   ],
   "source": [
    "x = Symbol('x')\n",
    "f1 = -x**2 + 21.6*x + 3\n",
    "backtracking_line_search(f1, 1, 1)"
   ]
  }
 ],
 "metadata": {
  "kernelspec": {
   "display_name": "Python 3",
   "language": "python",
   "name": "python3"
  },
  "language_info": {
   "codemirror_mode": {
    "name": "ipython",
    "version": 3
   },
   "file_extension": ".py",
   "mimetype": "text/x-python",
   "name": "python",
   "nbconvert_exporter": "python",
   "pygments_lexer": "ipython3",
   "version": "3.7.3"
  }
 },
 "nbformat": 4,
 "nbformat_minor": 2
}
