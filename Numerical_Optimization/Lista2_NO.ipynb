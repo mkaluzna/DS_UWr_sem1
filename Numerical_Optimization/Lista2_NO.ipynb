{
 "cells": [
  {
   "cell_type": "markdown",
   "metadata": {},
   "source": [
    "# Problem Set 2"
   ]
  },
  {
   "cell_type": "markdown",
   "metadata": {},
   "source": [
    "## Problem 2.1"
   ]
  },
  {
   "cell_type": "code",
   "execution_count": 1,
   "metadata": {},
   "outputs": [],
   "source": [
    "using Cbc\n",
    "using JuMP"
   ]
  },
  {
   "cell_type": "markdown",
   "metadata": {},
   "source": [
    "### Exercise 1a"
   ]
  },
  {
   "cell_type": "code",
   "execution_count": 2,
   "metadata": {},
   "outputs": [
    {
     "name": "stdout",
     "output_type": "stream",
     "text": [
      "Min x + y\n",
      "Subject to\n",
      " x + 2 y = 7.0\n",
      " x ≥ 1.0\n",
      " y ≥ 2.0\n",
      "\n",
      "Objective value:4.0\n",
      "x = 1.0\n",
      "y = 3.0\n",
      "Welcome to the CBC MILP Solver \n",
      "Version: 2.10.3 \n",
      "Build Date: Oct  7 2019 \n",
      "\n",
      "command line - Cbc_C_Interface -logLevel 1 -solve -quit (default strategy 1)\n",
      "Presolve 0 (-1) rows, 0 (-2) columns and 0 (-2) elements\n",
      "Empty problem - 0 rows, 0 columns and 0 elements\n",
      "Optimal - objective value 4\n",
      "After Postsolve, objective 4, infeasibilities - dual 0 (0), primal 0 (0)\n",
      "Optimal objective 4 - 0 iterations time 0.002, Presolve 0.00\n",
      "Total time (CPU seconds):       0.00   (Wallclock seconds):       0.02\n",
      "\n"
     ]
    }
   ],
   "source": [
    "modelA = Model(with_optimizer(Cbc.Optimizer, logLevel = 1))\n",
    "@variable(modelA, x >= 1)\n",
    "@variable(modelA, y >= 2)\n",
    "@objective(modelA, Min, x+y)\n",
    "@constraint(modelA, x + 2*y == 7)\n",
    "\n",
    "println(modelA)\n",
    "optimize!(modelA)\n",
    "println(\"Objective value:\", objective_value(modelA))\n",
    "println(\"x = \", value(x))\n",
    "println(\"y = \", value(y))"
   ]
  },
  {
   "cell_type": "markdown",
   "metadata": {},
   "source": [
    "### Exercise 1b"
   ]
  },
  {
   "cell_type": "code",
   "execution_count": 3,
   "metadata": {},
   "outputs": [
    {
     "name": "stdout",
     "output_type": "stream",
     "text": [
      "Min x + 2 y + 3 z\n",
      "Subject to\n",
      " x - y ≤ 2.0\n",
      " x + y ∈ [2.0, 3.0]\n",
      " x + z ∈ [4.0, 5.0]\n",
      " x ≥ 0.0\n",
      " y ≥ 0.0\n",
      " z ≥ 0.0\n",
      "\n",
      "Objective value: 8.0\n",
      "x = 2.5\n",
      "y = 0.5\n",
      "z = 1.5\n",
      "Welcome to the CBC MILP Solver \n",
      "Version: 2.10.3 \n",
      "Build Date: Oct  7 2019 \n",
      "\n",
      "command line - Cbc_C_Interface -logLevel 1 -solve -quit (default strategy 1)\n",
      "Presolve 3 (0) rows, 3 (0) columns and 6 (0) elements\n",
      "0  Obj 0 Primal inf 5.9999998 (2)\n",
      "3  Obj 8\n",
      "Optimal - objective value 8\n",
      "Optimal objective 8 - 3 iterations time 0.002\n",
      "Total time (CPU seconds):       0.00   (Wallclock seconds):       0.00\n",
      "\n"
     ]
    }
   ],
   "source": [
    "modelB = Model(with_optimizer(Cbc.Optimizer, logLevel = 1))\n",
    "@variable(modelB, x >= 0)\n",
    "@variable(modelB, y >= 0)\n",
    "@variable(modelB, z >= 0)\n",
    "@objective(modelB, Min, x + 2*y + 3*z)\n",
    "@constraint(modelB, 2 <= x + y <= 3)\n",
    "@constraint(modelB, 4 <= x + z <= 5)\n",
    "@constraint(modelB, x - y <= 2)\n",
    "\n",
    "println(modelB)\n",
    "optimize!(modelB)\n",
    "println(\"Objective value: \", objective_value(modelB))\n",
    "println(\"x = \", value(x))\n",
    "println(\"y = \", value(y))\n",
    "println(\"z = \", value(z))"
   ]
  },
  {
   "cell_type": "markdown",
   "metadata": {},
   "source": [
    "### Exercise 1c"
   ]
  },
  {
   "cell_type": "code",
   "execution_count": 4,
   "metadata": {},
   "outputs": [
    {
     "name": "stdout",
     "output_type": "stream",
     "text": [
      "Max 2 x + y\n",
      "Subject to\n",
      " x - y ≤ 4.0\n",
      " x + y ∈ [1.0, 5.0]\n",
      "\n",
      "Objective value: 9.5\n",
      "x = 4.5\n",
      "y = 0.5\n",
      "Welcome to the CBC MILP Solver \n",
      "Version: 2.10.3 \n",
      "Build Date: Oct  7 2019 \n",
      "\n",
      "command line - Cbc_C_Interface -logLevel 1 -solve -quit (default strategy 1)\n",
      "Presolve 2 (0) rows, 2 (0) columns and 4 (0) elements\n",
      "0  Obj -0 Primal inf 0.9999999 (1) Dual inf 0.0299998 (2) w.o. free dual inf (0)\n",
      "2  Obj 3.5 Dual inf 1.4999999 (1)\n",
      "Optimal - objective value 9.5\n",
      "Optimal objective 9.5 - 2 iterations time 0.002\n",
      "Total time (CPU seconds):       0.00   (Wallclock seconds):       0.00\n",
      "\n"
     ]
    }
   ],
   "source": [
    "modelC = Model(with_optimizer(Cbc.Optimizer, logLevel = 1))\n",
    "@variable(modelC, x)\n",
    "@variable(modelC, y)\n",
    "@objective(modelC, Max, 2*x + y)\n",
    "@constraint(modelC, 1 <= x + y <= 5)\n",
    "@constraint(modelC, x - y <= 4)\n",
    "\n",
    "println(modelC)\n",
    "optimize!(modelC)\n",
    "println(\"Objective value: \", objective_value(modelC))\n",
    "println(\"x = \", value(x))\n",
    "println(\"y = \", value(y))"
   ]
  },
  {
   "cell_type": "markdown",
   "metadata": {},
   "source": [
    "## Problem 2.2"
   ]
  },
  {
   "cell_type": "markdown",
   "metadata": {},
   "source": [
    "### Exercise 1a"
   ]
  },
  {
   "cell_type": "code",
   "execution_count": 5,
   "metadata": {},
   "outputs": [
    {
     "name": "stdout",
     "output_type": "stream",
     "text": [
      "Academic license - for non-commercial use only\n"
     ]
    },
    {
     "data": {
      "text/plain": [
       "Gurobi.Env(Ptr{Nothing} @0x00007fa0c92c3e00)"
      ]
     },
     "execution_count": 5,
     "metadata": {},
     "output_type": "execute_result"
    }
   ],
   "source": [
    "using Gurobi\n",
    "env = Gurobi.Env()"
   ]
  },
  {
   "cell_type": "code",
   "execution_count": 6,
   "metadata": {},
   "outputs": [
    {
     "name": "stdout",
     "output_type": "stream",
     "text": [
      "Academic license - for non-commercial use only\n",
      "Min x + y\n",
      "Subject to\n",
      " x + 2 y = 7.0\n",
      " x ≥ 1.0\n",
      " y ≥ 2.0\n",
      "\n",
      "Academic license - for non-commercial use only\n",
      "Optimize a model with 1 rows, 2 columns and 2 nonzeros\n",
      "Coefficient statistics:\n",
      "  Matrix range     [1e+00, 2e+00]\n",
      "  Objective range  [1e+00, 1e+00]\n",
      "  Bounds range     [1e+00, 2e+00]\n",
      "  RHS range        [7e+00, 7e+00]\n",
      "Presolve removed 1 rows and 2 columns\n",
      "Presolve time: 0.01s\n",
      "Presolve: All rows and columns removed\n",
      "Iteration    Objective       Primal Inf.    Dual Inf.      Time\n",
      "       0    4.0000000e+00   0.000000e+00   0.000000e+00      0s\n",
      "\n",
      "Solved in 0 iterations and 0.01 seconds\n",
      "Optimal objective  4.000000000e+00\n",
      "\n",
      "Objective value:4.0\n",
      "x = 1.0\n",
      "y = 3.0\n"
     ]
    }
   ],
   "source": [
    "model_A = Model(with_optimizer(Gurobi.Optimizer))\n",
    "@variable(model_A, x >= 1)\n",
    "@variable(model_A, y >= 2)\n",
    "@objective(model_A, Min, x+y)\n",
    "@constraint(model_A, x + 2y == 7)\n",
    "\n",
    "println(model_A)\n",
    "optimize!(model_A)\n",
    "println()\n",
    "println(\"Objective value:\", objective_value(model_A))\n",
    "println(\"x = \", value(x))\n",
    "println(\"y = \", value(y))"
   ]
  },
  {
   "cell_type": "markdown",
   "metadata": {},
   "source": [
    "### Exercise 1b"
   ]
  },
  {
   "cell_type": "code",
   "execution_count": 7,
   "metadata": {},
   "outputs": [
    {
     "name": "stdout",
     "output_type": "stream",
     "text": [
      "Academic license - for non-commercial use only\n",
      "Min x + 2 y + 3 z\n",
      "Subject to\n",
      " x - y ≤ 2.0\n",
      " x + y ∈ [2.0, 3.0]\n",
      " x + z ∈ [4.0, 5.0]\n",
      " x ≥ 0.0\n",
      " y ≥ 0.0\n",
      " z ≥ 0.0\n",
      "\n",
      "Academic license - for non-commercial use only\n",
      "Optimize a model with 3 rows, 5 columns and 8 nonzeros\n",
      "Coefficient statistics:\n",
      "  Matrix range     [1e+00, 1e+00]\n",
      "  Objective range  [1e+00, 3e+00]\n",
      "  Bounds range     [2e+00, 5e+00]\n",
      "  RHS range        [2e+00, 2e+00]\n",
      "Presolve removed 1 rows and 2 columns\n",
      "Presolve time: 0.00s\n",
      "Presolved: 2 rows, 3 columns, 5 nonzeros\n",
      "\n",
      "Iteration    Objective       Primal Inf.    Dual Inf.      Time\n",
      "       0    8.0000000e+00   6.000000e+00   0.000000e+00      0s\n",
      "       1    8.0000000e+00   0.000000e+00   0.000000e+00      0s\n",
      "\n",
      "Solved in 1 iterations and 0.00 seconds\n",
      "Optimal objective  8.000000000e+00\n",
      "\n",
      "Objective value: 8.0\n",
      "x = 2.0\n",
      "y = 0.0\n",
      "z = 2.0\n"
     ]
    }
   ],
   "source": [
    "model_B = Model(with_optimizer(Gurobi.Optimizer))\n",
    "@variable(model_B, x >= 0)\n",
    "@variable(model_B, y >= 0)\n",
    "@variable(model_B, z >= 0)\n",
    "@objective(model_B, Min, x + 2*y + 3*z)\n",
    "@constraint(model_B, 2 <= x + y <= 3)\n",
    "@constraint(model_B, 4 <= x + z <= 5)\n",
    "@constraint(model_B, x - y <= 2)\n",
    "\n",
    "println(model_B)\n",
    "optimize!(model_B)\n",
    "println()\n",
    "println(\"Objective value: \", objective_value(model_B))\n",
    "println(\"x = \", value(x))\n",
    "println(\"y = \", value(y))\n",
    "println(\"z = \", value(z))"
   ]
  },
  {
   "cell_type": "markdown",
   "metadata": {},
   "source": [
    "### Exercise 1c"
   ]
  },
  {
   "cell_type": "code",
   "execution_count": 8,
   "metadata": {},
   "outputs": [
    {
     "name": "stdout",
     "output_type": "stream",
     "text": [
      "Academic license - for non-commercial use only\n",
      "Max 2 x + y\n",
      "Subject to\n",
      " x - y ≤ 4.0\n",
      " x + y ∈ [1.0, 5.0]\n",
      "\n",
      "Academic license - for non-commercial use only\n",
      "Optimize a model with 2 rows, 3 columns and 5 nonzeros\n",
      "Coefficient statistics:\n",
      "  Matrix range     [1e+00, 1e+00]\n",
      "  Objective range  [1e+00, 2e+00]\n",
      "  Bounds range     [1e+00, 5e+00]\n",
      "  RHS range        [4e+00, 4e+00]\n",
      "Presolve removed 2 rows and 3 columns\n",
      "Presolve time: 0.00s\n",
      "Presolve: All rows and columns removed\n",
      "Iteration    Objective       Primal Inf.    Dual Inf.      Time\n",
      "       0    9.5000000e+00   0.000000e+00   0.000000e+00      0s\n",
      "\n",
      "Solved in 0 iterations and 0.00 seconds\n",
      "Optimal objective  9.500000000e+00\n",
      "\n",
      "Objective value: 9.5\n",
      "x = 4.5\n",
      "y = 0.5\n"
     ]
    }
   ],
   "source": [
    "model_C = Model(with_optimizer(Gurobi.Optimizer))\n",
    "@variable(model_C, x)\n",
    "@variable(model_C, y)\n",
    "@objective(model_C, Max, 2*x + y)\n",
    "@constraint(model_C, 1 <= x + y <= 5)\n",
    "@constraint(model_C, x - y <= 4)\n",
    "\n",
    "println(model_C)\n",
    "optimize!(model_C)\n",
    "println()\n",
    "println(\"Objective value: \", objective_value(model_C))\n",
    "println(\"x = \", value(x))\n",
    "println(\"y = \", value(y))"
   ]
  },
  {
   "cell_type": "markdown",
   "metadata": {},
   "source": [
    "## Problem 2.3"
   ]
  },
  {
   "cell_type": "code",
   "execution_count": 68,
   "metadata": {},
   "outputs": [
    {
     "name": "stdout",
     "output_type": "stream",
     "text": [
      "Academic license - for non-commercial use only\n",
      "Max 9 x[1,1] + 7 x[1,2] + 2 x[1,3] + x[1,4] + 10 x[1,5] + 9 x[1,6] + 8 x[1,7] + 9 x[1,8] + 2 x[1,9] + 6 x[1,10] + 8 x[2,1] + 8 x[2,2] + 3 x[2,3] + 4 x[2,4] + 7 x[2,5] + 9 x[2,6] + 7 x[2,7] + 7 x[2,8] + 4 x[2,9] + 4 x[2,10] + 2 x[3,1] + x[3,2] + 10 x[3,3] + 10 x[3,4] + x[3,5] + 4 x[3,6] + 7 x[3,7] + 6 x[3,8] + 6 x[3,9] + 7 x[3,10] + 4 x[4,1] + 4 x[4,2] + 10 x[4,3] + 9 x[4,4] + 9 x[4,5] + 9 x[4,6] + x[4,7] + 2 x[4,8] + 3 x[4,9] + 4 x[4,10] + 10 x[5,1] + 10 x[5,2] + 9 x[5,3] + 9 x[5,4] + 8 x[5,5] + 9 x[5,6] + x[5,7] + x[5,8] + x[5,9] + x[5,10] + x[6,1] + 3 x[6,2] + 5 x[6,3] + 7 x[6,4] + 9 x[6,5] + 7 x[6,6] + 10 x[6,7] + 10 x[6,8] + 9 x[6,9] + 2 x[6,10] + 9 x[7,1] + 9 x[7,2] + 8 x[7,3] + 8 x[7,4] + 9 x[7,5] + x[7,6] + x[7,7] + 2 x[7,8] + 2 x[7,9] + 9 x[7,10] + 3 x[8,1] + 2 x[8,2] + 7 x[8,3] + 6 x[8,4] + 4 x[8,5] + 3 x[8,6] + 9 x[8,7] + 7 x[8,8] + 7 x[8,9] + 9 x[8,10] + 5 x[9,1] + 4 x[9,2] + 5 x[9,3] + 9 x[9,4] + 10 x[9,5] + 10 x[9,6] + 5 x[9,7] + 4 x[9,8] + 9 x[9,9] + 8 x[9,10] + 10 x[10,1] + 10 x[10,2] + 9 x[10,3] + 7 x[10,4] + 6 x[10,5] + 7 x[10,6] + 5 x[10,7] + 4 x[10,8] + 8 x[10,9] + 8 x[10,10]\n",
      "Subject to\n",
      " x[1,1] + x[1,2] + x[1,3] + x[1,4] + x[1,5] + x[1,6] + x[1,7] + x[1,8] + x[1,9] + x[1,10] = 1.0\n",
      " x[2,1] + x[2,2] + x[2,3] + x[2,4] + x[2,5] + x[2,6] + x[2,7] + x[2,8] + x[2,9] + x[2,10] = 1.0\n",
      " x[3,1] + x[3,2] + x[3,3] + x[3,4] + x[3,5] + x[3,6] + x[3,7] + x[3,8] + x[3,9] + x[3,10] = 1.0\n",
      " x[4,1] + x[4,2] + x[4,3] + x[4,4] + x[4,5] + x[4,6] + x[4,7] + x[4,8] + x[4,9] + x[4,10] = 1.0\n",
      " x[5,1] + x[5,2] + x[5,3] + x[5,4] + x[5,5] + x[5,6] + x[5,7] + x[5,8] + x[5,9] + x[5,10] = 1.0\n",
      " x[6,1] + x[6,2] + x[6,3] + x[6,4] + x[6,5] + x[6,6] + x[6,7] + x[6,8] + x[6,9] + x[6,10] = 1.0\n",
      " x[7,1] + x[7,2] + x[7,3] + x[7,4] + x[7,5] + x[7,6] + x[7,7] + x[7,8] + x[7,9] + x[7,10] = 1.0\n",
      " x[8,1] + x[8,2] + x[8,3] + x[8,4] + x[8,5] + x[8,6] + x[8,7] + x[8,8] + x[8,9] + x[8,10] = 1.0\n",
      " x[9,1] + x[9,2] + x[9,3] + x[9,4] + x[9,5] + x[9,6] + x[9,7] + x[9,8] + x[9,9] + x[9,10] = 1.0\n",
      " x[10,1] + x[10,2] + x[10,3] + x[10,4] + x[10,5] + x[10,6] + x[10,7] + x[10,8] + x[10,9] + x[10,10] = 1.0\n",
      " x[1,1] + x[2,1] + x[3,1] + x[4,1] + x[5,1] + x[6,1] + x[7,1] + x[8,1] + x[9,1] + x[10,1] = 1.0\n",
      " x[1,2] + x[2,2] + x[3,2] + x[4,2] + x[5,2] + x[6,2] + x[7,2] + x[8,2] + x[9,2] + x[10,2] = 1.0\n",
      " x[1,3] + x[2,3] + x[3,3] + x[4,3] + x[5,3] + x[6,3] + x[7,3] + x[8,3] + x[9,3] + x[10,3] = 1.0\n",
      " x[1,4] + x[2,4] + x[3,4] + x[4,4] + x[5,4] + x[6,4] + x[7,4] + x[8,4] + x[9,4] + x[10,4] = 1.0\n",
      " x[1,5] + x[2,5] + x[3,5] + x[4,5] + x[5,5] + x[6,5] + x[7,5] + x[8,5] + x[9,5] + x[10,5] = 1.0\n",
      " x[1,6] + x[2,6] + x[3,6] + x[4,6] + x[5,6] + x[6,6] + x[7,6] + x[8,6] + x[9,6] + x[10,6] = 1.0\n",
      " x[1,7] + x[2,7] + x[3,7] + x[4,7] + x[5,7] + x[6,7] + x[7,7] + x[8,7] + x[9,7] + x[10,7] = 1.0\n",
      " x[1,8] + x[2,8] + x[3,8] + x[4,8] + x[5,8] + x[6,8] + x[7,8] + x[8,8] + x[9,8] + x[10,8] = 1.0\n",
      " x[1,9] + x[2,9] + x[3,9] + x[4,9] + x[5,9] + x[6,9] + x[7,9] + x[8,9] + x[9,9] + x[10,9] = 1.0\n",
      " x[1,10] + x[2,10] + x[3,10] + x[4,10] + x[5,10] + x[6,10] + x[7,10] + x[8,10] + x[9,10] + x[10,10] = 1.0\n",
      " x[1,1] binary\n",
      " x[1,2] binary\n",
      " x[1,3] binary\n",
      " x[1,4] binary\n",
      " x[1,5] binary\n",
      " x[1,6] binary\n",
      " x[1,7] binary\n",
      " x[1,8] binary\n",
      " x[1,9] binary\n",
      " x[1,10] binary\n",
      " x[2,1] binary\n",
      " x[2,2] binary\n",
      " x[2,3] binary\n",
      " x[2,4] binary\n",
      " x[2,5] binary\n",
      " x[2,6] binary\n",
      " x[2,7] binary\n",
      " x[2,8] binary\n",
      " x[2,9] binary\n",
      " x[2,10] binary\n",
      " x[3,1] binary\n",
      " x[3,2] binary\n",
      " x[3,3] binary\n",
      " x[3,4] binary\n",
      " x[3,5] binary\n",
      " x[3,6] binary\n",
      " x[3,7] binary\n",
      " x[3,8] binary\n",
      " x[3,9] binary\n",
      " x[3,10] binary\n",
      " x[4,1] binary\n",
      " x[4,2] binary\n",
      " x[4,3] binary\n",
      " x[4,4] binary\n",
      " x[4,5] binary\n",
      " x[4,6] binary\n",
      " x[4,7] binary\n",
      " x[4,8] binary\n",
      " x[4,9] binary\n",
      " x[4,10] binary\n",
      " x[5,1] binary\n",
      " x[5,2] binary\n",
      " x[5,3] binary\n",
      " x[5,4] binary\n",
      " x[5,5] binary\n",
      " x[5,6] binary\n",
      " x[5,7] binary\n",
      " x[5,8] binary\n",
      " x[5,9] binary\n",
      " x[5,10] binary\n",
      " x[6,1] binary\n",
      " x[6,2] binary\n",
      " x[6,3] binary\n",
      " x[6,4] binary\n",
      " x[6,5] binary\n",
      " x[6,6] binary\n",
      " x[6,7] binary\n",
      " x[6,8] binary\n",
      " x[6,9] binary\n",
      " x[6,10] binary\n",
      " x[7,1] binary\n",
      " x[7,2] binary\n",
      " x[7,3] binary\n",
      " x[7,4] binary\n",
      " x[7,5] binary\n",
      " x[7,6] binary\n",
      " x[7,7] binary\n",
      " x[7,8] binary\n",
      " x[7,9] binary\n",
      " x[7,10] binary\n",
      " x[8,1] binary\n",
      " x[8,2] binary\n",
      " x[8,3] binary\n",
      " x[8,4] binary\n",
      " x[8,5] binary\n",
      " x[8,6] binary\n",
      " x[8,7] binary\n",
      " x[8,8] binary\n",
      " x[8,9] binary\n",
      " x[8,10] binary\n",
      " x[9,1] binary\n",
      " x[9,2] binary\n",
      " x[9,3] binary\n",
      " x[9,4] binary\n",
      " x[9,5] binary\n",
      " x[9,6] binary\n",
      " x[9,7] binary\n",
      " x[9,8] binary\n",
      " x[9,9] binary\n",
      " x[9,10] binary\n",
      " x[10,1] binary\n",
      " x[10,2] binary\n",
      " x[10,3] binary\n",
      " x[10,4] binary\n",
      " x[10,5] binary\n",
      " x[10,6] binary\n",
      " x[10,7] binary\n",
      " x[10,8] binary\n",
      " x[10,9] binary\n",
      " x[10,10] binary\n",
      "\n",
      "Academic license - for non-commercial use only\n",
      "Optimize a model with 20 rows, 100 columns and 200 nonzeros\n",
      "Variable types: 0 continuous, 100 integer (100 binary)\n",
      "Coefficient statistics:\n",
      "  Matrix range     [1e+00, 1e+00]\n",
      "  Objective range  [1e+00, 1e+01]\n",
      "  Bounds range     [0e+00, 0e+00]\n",
      "  RHS range        [1e+00, 1e+00]\n",
      "Found heuristic solution: objective 54.0000000\n",
      "Presolve time: 0.00s\n",
      "Presolved: 20 rows, 100 columns, 200 nonzeros\n",
      "Variable types: 0 continuous, 100 integer (100 binary)\n",
      "\n",
      "Root relaxation: objective 9.600000e+01, 17 iterations, 0.00 seconds\n",
      "\n",
      "    Nodes    |    Current Node    |     Objective Bounds      |     Work\n",
      " Expl Unexpl |  Obj  Depth IntInf | Incumbent    BestBd   Gap | It/Node Time\n",
      "\n",
      "*    0     0               0      96.0000000   96.00000  0.00%     -    0s\n",
      "\n",
      "Explored 0 nodes (17 simplex iterations) in 0.00 seconds\n",
      "Thread count was 4 (of 4 available processors)\n",
      "\n",
      "Solution count 2: 96 54 \n",
      "\n",
      "Optimal solution found (tolerance 1.00e-04)\n",
      "Best objective 9.600000000000e+01, best bound 9.600000000000e+01, gap 0.0000%\n",
      "\n",
      "Objective value: 96.0\n",
      "x = [0.0 -0.0 -0.0 -0.0 1.0 -0.0 -0.0 -0.0 -0.0 -0.0; -0.0 0.0 -0.0 -0.0 -0.0 1.0 -0.0 -0.0 -0.0 -0.0; -0.0 -0.0 0.0 1.0 -0.0 -0.0 -0.0 -0.0 -0.0 -0.0; -0.0 -0.0 1.0 -0.0 -0.0 0.0 -0.0 -0.0 -0.0 -0.0; 1.0 0.0 -0.0 -0.0 -0.0 -0.0 -0.0 -0.0 -0.0 -0.0; -0.0 -0.0 -0.0 -0.0 -0.0 -0.0 0.0 1.0 -0.0 -0.0; -0.0 0.0 -0.0 -0.0 -0.0 -0.0 -0.0 -0.0 -0.0 1.0; -0.0 -0.0 -0.0 -0.0 -0.0 -0.0 1.0 -0.0 -0.0 0.0; -0.0 -0.0 -0.0 -0.0 0.0 0.0 -0.0 -0.0 1.0 -0.0; 0.0 1.0 -0.0 -0.0 -0.0 -0.0 -0.0 -0.0 -0.0 -0.0]\n"
     ]
    },
    {
     "data": {
      "text/plain": [
       "10-element Array{CartesianIndex{2},1}:\n",
       " CartesianIndex(5, 1) \n",
       " CartesianIndex(10, 2)\n",
       " CartesianIndex(4, 3) \n",
       " CartesianIndex(3, 4) \n",
       " CartesianIndex(1, 5) \n",
       " CartesianIndex(2, 6) \n",
       " CartesianIndex(8, 7) \n",
       " CartesianIndex(6, 8) \n",
       " CartesianIndex(9, 9) \n",
       " CartesianIndex(7, 10)"
      ]
     },
     "execution_count": 68,
     "metadata": {},
     "output_type": "execute_result"
    }
   ],
   "source": [
    "# cost matrix\n",
    "W = [9 7 2 1 10 9 8 9 2 6;\n",
    "    8 8 3 4 7 9 7 7 4 4;\n",
    "    2 1 10 10 1 4 7 6 6 7;\n",
    "    4 4 10 9 9 9 1 2 3 4;\n",
    "    10 10 9 9 8 9 1 1 1 1;\n",
    "    1 3 5 7 9 7 10 10 9 2;\n",
    "    9 9 8 8 9 1 1 2 2 9;\n",
    "    3 2 7 6 4 3 9 7 7 9;\n",
    "    5 4 5 9 10 10 5 4 9 8;\n",
    "    10 10 9 7 6 7 5 4 8 8]\n",
    "\n",
    "N = size(W)[1]\n",
    "\n",
    "model = Model(with_optimizer(Gurobi.Optimizer))\n",
    "\n",
    "@variable(model, x[1:N,1:N], Bin)  # 10x10 array - variable x\n",
    "\n",
    "# constraint 1: rows sum up to one\n",
    "for i = 1:N\n",
    "    @constraint(model, sum(x[i,j] for j = 1:N) == 1.0)\n",
    "end\n",
    "\n",
    "# constraint 2: columns sum up to one\n",
    "for j = 1:N\n",
    "    @constraint(model, sum(x[i,j] for i = 1:N) == 1.0)\n",
    "end\n",
    "\n",
    "@objective(model, Max, sum(W[i,j]*x[i,j] for i = 1:N, j = 1:N))\n",
    "\n",
    "println(model)\n",
    "optimize!(model)\n",
    "println()\n",
    "println(\"Objective value: \", objective_value(model))\n",
    "println(\"x = \", value.(x))\n",
    "findall(x->x !=0, value.(x))"
   ]
  },
  {
   "cell_type": "markdown",
   "metadata": {},
   "source": [
    "#### Who should be assigned to which flight?\n",
    "Jan 12: Schatz (10)     \n",
    "Jan 27: Drtina (10)     \n",
    "Feb 5: Herbert (10)     \n",
    "Feb 26: Anderson (10)     \n",
    "Mar 26: Vincze (10)    \n",
    "Apr 12: Veit (9)      \n",
    "May 1: Moses (9)     \n",
    "Jun 9: Plane (10)     \n",
    "Aug 20: Brandon (9)    \n",
    "Sep 19: Certo (9)  "
   ]
  }
 ],
 "metadata": {
  "kernelspec": {
   "display_name": "Julia 1.2.0",
   "language": "julia",
   "name": "julia-1.2"
  },
  "language_info": {
   "file_extension": ".jl",
   "mimetype": "application/julia",
   "name": "julia",
   "version": "1.2.0"
  }
 },
 "nbformat": 4,
 "nbformat_minor": 2
}
